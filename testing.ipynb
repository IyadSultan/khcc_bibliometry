{
 "cells": [
  {
   "cell_type": "code",
   "execution_count": 2,
   "metadata": {},
   "outputs": [
    {
     "name": "stdout",
     "output_type": "stream",
     "text": [
      "Column names in the Excel file:\n",
      "['Name', 'Abbr Name', 'ISSN', 'EISSN', 'JIF', 'JIF5Years', 'Category']\n",
      "\n",
      "First few rows of the 'Category' column:\n",
      "0                        ONCOLOGY|Q1|1/322\n",
      "1         PHARMACOLOGY & PHARMACY|Q1|1/354\n",
      "2    MEDICINE, GENERAL & INTERNAL|Q1|1/325\n",
      "3    MEDICINE, GENERAL & INTERNAL|Q1|2/325\n",
      "4    MEDICINE, GENERAL & INTERNAL|Q1|3/325\n",
      "Name: Category, dtype: object\n"
     ]
    }
   ],
   "source": [
    "import pandas as pd\n",
    "\n",
    "# Read the Excel file\n",
    "impact_df = pd.read_excel('impact_factor/CopyofImpactFactor2024.xlsx')\n",
    "\n",
    "# Display column names\n",
    "print(\"Column names in the Excel file:\")\n",
    "print(impact_df.columns.tolist())\n",
    "# Display the first few rows of the 'Category' column\n",
    "print(\"\\nFirst few rows of the 'Category' column:\")\n",
    "print(impact_df['Category'].head())\n"
   ]
  },
  {
   "cell_type": "code",
   "execution_count": 11,
   "metadata": {},
   "outputs": [
    {
     "name": "stdout",
     "output_type": "stream",
     "text": [
      "GPT-4 response: I'm just a bunch of code, so I don't have feelings, but thanks for asking! How can I assist you today? 😊\n"
     ]
    }
   ],
   "source": [
    "import os\n",
    "from dotenv import load_dotenv\n",
    "from openai import AzureOpenAI\n",
    "\n",
    "# Load environment variables\n",
    "load_dotenv()\n",
    "\n",
    "# Configure Azure OpenAI client\n",
    "client = AzureOpenAI(\n",
    "    api_key=os.getenv('AZURE_API_KEY'),\n",
    "    api_version=os.getenv('AZURE_API_VERSION'),\n",
    "    azure_endpoint=os.getenv('AZURE_ENDPOINT')\n",
    ")\n",
    "\n",
    "try:\n",
    "    # Create chat completion using Azure endpoint\n",
    "    response = client.chat.completions.create(\n",
    "        model=\"gpt-4o\",  # Use the deployment name\n",
    "        messages=[\n",
    "            {\"role\": \"user\", \"content\": \"How are you?\"}\n",
    "        ]\n",
    "    )\n",
    "    \n",
    "    # Print the response\n",
    "    print(\"GPT-4 response:\", response.choices[0].message.content)\n",
    "    \n",
    "except Exception as e:\n",
    "    print(f\"An error occurred: {e}\")\n"
   ]
  },
  {
   "cell_type": "code",
   "execution_count": 2,
   "metadata": {},
   "outputs": [
    {
     "name": "stdout",
     "output_type": "stream",
     "text": [
      "First row as JSON:\n",
      "{\n",
      "  \"title\": \"Stent-Induced [68Ga]Ga-FAPI Diffuse Expression in a Patient with Pancreatic Cancer: Navigating Non-oncologic Challenges\",\n",
      "  \"authors\": \"[\\\"Akram Al\\\\u2010Ibraheem (https://orcid.org/0000-0002-0978-4716)\\\", \\\"Deya\\\\u2019 Aldeen Sweedat\\\", \\\"Ahmed Saad Abdlkadir (https://orcid.org/0000-0002-2009-5110)\\\", \\\"Dragi Stanimirovi\\\\u0107\\\", \\\"Habibollah Dadgar (https://orcid.org/0000-0001-6073-7547)\\\"]\",\n",
      "  \"abstract\": \"\",\n",
      "  \"publication_date\": \"2024-01-31\",\n",
      "  \"journal\": \"Nuclear Medicine and Molecular Imaging\",\n",
      "  \"doi\": \"https://doi.org/10.1007/s13139-024-00844-7\",\n",
      "  \"citations\": 2,\n",
      "  \"source\": \"openalex\",\n",
      "  \"affiliation\": \"Imam Reza International University (ROR:https://ror.org/007jfm765); University clinical center of Republika Srpska (ROR:https://ror.org/05vapw332); King Hussein Cancer Center (ROR:https://ror.org/0564xsr50)\",\n",
      "  \"url\": \"https://doi.org/10.1007/s13139-024-00844-7\",\n",
      "  \"keywords\": \"[\\\"Medicine (L0, S:0.92)\\\", \\\"Pancreatic cancer (L3, S:0.81)\\\", \\\"Stent (L2, S:0.51)\\\"]\",\n",
      "  \"paper_hash\": \"5f3045543f82e0b5c94ce58f8587912019ca6040b2be665d1f2fc6d43ac11ec6\",\n",
      "  \"openalex_id\": \"https://openalex.org/W4391400424\",\n",
      "  \"type\": \"article\",\n",
      "  \"open_access\": \"{\\\"is_oa\\\": false, \\\"oa_status\\\": \\\"closed\\\", \\\"oa_url\\\": null, \\\"any_repository_has_fulltext\\\": false}\",\n",
      "  \"primary_location\": \"{\\\"is_oa\\\": false, \\\"landing_page_url\\\": \\\"https://doi.org/10.1007/s13139-024-00844-7\\\", \\\"pdf_url\\\": null, \\\"source\\\": {\\\"id\\\": \\\"https://openalex.org/S201806951\\\", \\\"display_name\\\": \\\"Nuclear Medicine and Molecular Imaging\\\", \\\"issn_l\\\": \\\"1869-3474\\\", \\\"issn\\\": [\\\"1869-3474\\\", \\\"1869-3482\\\"], \\\"is_oa\\\": false, \\\"is_in_doaj\\\": false, \\\"is_core\\\": true, \\\"host_organization\\\": \\\"https://openalex.org/P4310319900\\\", \\\"host_organization_name\\\": \\\"Springer Science+Business Media\\\", \\\"host_organization_lineage\\\": [\\\"https://openalex.org/P4310319965\\\", \\\"https://openalex.org/P4310319900\\\"], \\\"host_organization_lineage_names\\\": [\\\"Springer Nature\\\", \\\"Springer Science+Business Media\\\"], \\\"type\\\": \\\"journal\\\"}, \\\"license\\\": null, \\\"license_id\\\": null, \\\"version\\\": null, \\\"is_accepted\\\": false, \\\"is_published\\\": false}\",\n",
      "  \"locations_count\": 2,\n",
      "  \"authorships\": \"[{\\\"author\\\": {\\\"id\\\": \\\"https://openalex.org/A5066048708\\\", \\\"display_name\\\": \\\"Akram Al\\\\u2010Ibraheem\\\", \\\"orcid\\\": \\\"https://orcid.org/0000-0002-0978-4716\\\"}, \\\"institutions\\\": [{\\\"id\\\": \\\"https://openalex.org/I2799468983\\\", \\\"display_name\\\": \\\"King Hussein Cancer Center\\\", \\\"ror\\\": \\\"https://ror.org/0564xsr50\\\", \\\"country_code\\\": \\\"JO\\\", \\\"type\\\": \\\"nonprofit\\\", \\\"lineage\\\": [\\\"https://openalex.org/I2799468983\\\"]}], \\\"is_corresponding\\\": true, \\\"raw_affiliation_string\\\": null}, {\\\"author\\\": {\\\"id\\\": \\\"https://openalex.org/A5077193818\\\", \\\"display_name\\\": \\\"Deya\\\\u2019 Aldeen Sweedat\\\", \\\"orcid\\\": null}, \\\"institutions\\\": [{\\\"id\\\": \\\"https://openalex.org/I2799468983\\\", \\\"display_name\\\": \\\"King Hussein Cancer Center\\\", \\\"ror\\\": \\\"https://ror.org/0564xsr50\\\", \\\"country_code\\\": \\\"JO\\\", \\\"type\\\": \\\"nonprofit\\\", \\\"lineage\\\": [\\\"https://openalex.org/I2799468983\\\"]}], \\\"is_corresponding\\\": false, \\\"raw_affiliation_string\\\": null}, {\\\"author\\\": {\\\"id\\\": \\\"https://openalex.org/A5088953531\\\", \\\"display_name\\\": \\\"Ahmed Saad Abdlkadir\\\", \\\"orcid\\\": \\\"https://orcid.org/0000-0002-2009-5110\\\"}, \\\"institutions\\\": [{\\\"id\\\": \\\"https://openalex.org/I2799468983\\\", \\\"display_name\\\": \\\"King Hussein Cancer Center\\\", \\\"ror\\\": \\\"https://ror.org/0564xsr50\\\", \\\"country_code\\\": \\\"JO\\\", \\\"type\\\": \\\"nonprofit\\\", \\\"lineage\\\": [\\\"https://openalex.org/I2799468983\\\"]}], \\\"is_corresponding\\\": false, \\\"raw_affiliation_string\\\": null}, {\\\"author\\\": {\\\"id\\\": \\\"https://openalex.org/A5067976777\\\", \\\"display_name\\\": \\\"Dragi Stanimirovi\\\\u0107\\\", \\\"orcid\\\": null}, \\\"institutions\\\": [{\\\"id\\\": \\\"https://openalex.org/I4210160542\\\", \\\"display_name\\\": \\\"University clinical center of Republika Srpska\\\", \\\"ror\\\": \\\"https://ror.org/05vapw332\\\", \\\"country_code\\\": \\\"BA\\\", \\\"type\\\": \\\"healthcare\\\", \\\"lineage\\\": [\\\"https://openalex.org/I4210160542\\\"]}], \\\"is_corresponding\\\": false, \\\"raw_affiliation_string\\\": null}, {\\\"author\\\": {\\\"id\\\": \\\"https://openalex.org/A5079511375\\\", \\\"display_name\\\": \\\"Habibollah Dadgar\\\", \\\"orcid\\\": \\\"https://orcid.org/0000-0001-6073-7547\\\"}, \\\"institutions\\\": [{\\\"id\\\": \\\"https://openalex.org/I4210088705\\\", \\\"display_name\\\": \\\"Imam Reza International University\\\", \\\"ror\\\": \\\"https://ror.org/007jfm765\\\", \\\"country_code\\\": \\\"IR\\\", \\\"type\\\": \\\"education\\\", \\\"lineage\\\": [\\\"https://openalex.org/I4210088705\\\"]}], \\\"is_corresponding\\\": false, \\\"raw_affiliation_string\\\": null}]\",\n",
      "  \"cited_by_count\": 2,\n",
      "  \"biblio\": \"{\\\"volume\\\": \\\"58\\\", \\\"issue\\\": \\\"5\\\", \\\"first_page\\\": \\\"317\\\", \\\"last_page\\\": \\\"318\\\"}\",\n",
      "  \"is_retracted\": 0,\n",
      "  \"is_paratext\": 0,\n",
      "  \"concepts\": \"[{\\\"id\\\": \\\"https://openalex.org/C71924100\\\", \\\"wikidata\\\": \\\"https://www.wikidata.org/wiki/Q11190\\\", \\\"display_name\\\": \\\"Medicine\\\", \\\"level\\\": 0, \\\"score\\\": 0.923465}, {\\\"id\\\": \\\"https://openalex.org/C2780210213\\\", \\\"wikidata\\\": \\\"https://www.wikidata.org/wiki/Q212961\\\", \\\"display_name\\\": \\\"Pancreatic cancer\\\", \\\"level\\\": 3, \\\"score\\\": 0.8120489}, {\\\"id\\\": \\\"https://openalex.org/C2778583881\\\", \\\"wikidata\\\": \\\"https://www.wikidata.org/wiki/Q1325542\\\", \\\"display_name\\\": \\\"Stent\\\", \\\"level\\\": 2, \\\"score\\\": 0.5084395}, {\\\"id\\\": \\\"https://openalex.org/C126838900\\\", \\\"wikidata\\\": \\\"https://www.wikidata.org/wiki/Q77604\\\", \\\"display_name\\\": \\\"Radiology\\\", \\\"level\\\": 1, \\\"score\\\": 0.4778221}, {\\\"id\\\": \\\"https://openalex.org/C121608353\\\", \\\"wikidata\\\": \\\"https://www.wikidata.org/wiki/Q12078\\\", \\\"display_name\\\": \\\"Cancer\\\", \\\"level\\\": 2, \\\"score\\\": 0.448068}, {\\\"id\\\": \\\"https://openalex.org/C502942594\\\", \\\"wikidata\\\": \\\"https://www.wikidata.org/wiki/Q3421914\\\", \\\"display_name\\\": \\\"Cancer research\\\", \\\"level\\\": 1, \\\"score\\\": 0.3510892}, {\\\"id\\\": \\\"https://openalex.org/C142724271\\\", \\\"wikidata\\\": \\\"https://www.wikidata.org/wiki/Q7208\\\", \\\"display_name\\\": \\\"Pathology\\\", \\\"level\\\": 1, \\\"score\\\": 0.34356517}, {\\\"id\\\": \\\"https://openalex.org/C126322002\\\", \\\"wikidata\\\": \\\"https://www.wikidata.org/wiki/Q11180\\\", \\\"display_name\\\": \\\"Internal medicine\\\", \\\"level\\\": 1, \\\"score\\\": 0.27961272}]\",\n",
      "  \"mesh\": \"[]\",\n",
      "  \"referenced_works\": \"[\\\"https://openalex.org/W3197583646\\\", \\\"https://openalex.org/W4321368234\\\", \\\"https://openalex.org/W4362634896\\\", \\\"https://openalex.org/W4366603556\\\", \\\"https://openalex.org/W4387345971\\\"]\",\n",
      "  \"related_works\": \"[\\\"https://openalex.org/W4221015902\\\", \\\"https://openalex.org/W3201399084\\\", \\\"https://openalex.org/W3160432000\\\", \\\"https://openalex.org/W3028147324\\\", \\\"https://openalex.org/W2971868466\\\", \\\"https://openalex.org/W2780441385\\\", \\\"https://openalex.org/W2348276370\\\", \\\"https://openalex.org/W2327299128\\\", \\\"https://openalex.org/W2079105677\\\", \\\"https://openalex.org/W2012081960\\\"]\",\n",
      "  \"counts_by_year\": \"[{\\\"year\\\": 2024, \\\"cited_by_count\\\": 2}]\",\n",
      "  \"sustainable_development_goals\": \"[]\",\n",
      "  \"grants\": \"[]\"\n",
      "}\n"
     ]
    }
   ],
   "source": [
    "import sqlite3\n",
    "import json\n",
    "\n",
    "# Connect to the database\n",
    "conn = sqlite3.connect('bibliometry.db')\n",
    "cursor = conn.cursor()\n",
    "\n",
    "# Get first row from the database\n",
    "cursor.execute(\"SELECT * FROM papers LIMIT 1\")\n",
    "columns = [description[0] for description in cursor.description]\n",
    "row = cursor.fetchone()\n",
    "\n",
    "# Create dictionary from row data\n",
    "row_dict = dict(zip(columns, row))\n",
    "\n",
    "# Convert to JSON and print\n",
    "print(\"First row as JSON:\")\n",
    "print(json.dumps(row_dict, indent=2))\n",
    "\n",
    "# Close connection\n",
    "conn.close()\n"
   ]
  }
 ],
 "metadata": {
  "kernelspec": {
   "display_name": "venv",
   "language": "python",
   "name": "python3"
  },
  "language_info": {
   "codemirror_mode": {
    "name": "ipython",
    "version": 3
   },
   "file_extension": ".py",
   "mimetype": "text/x-python",
   "name": "python",
   "nbconvert_exporter": "python",
   "pygments_lexer": "ipython3",
   "version": "3.10.15"
  }
 },
 "nbformat": 4,
 "nbformat_minor": 2
}
