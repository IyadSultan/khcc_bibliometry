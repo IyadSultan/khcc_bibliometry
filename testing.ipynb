{
 "cells": [
  {
   "cell_type": "code",
   "execution_count": 2,
   "metadata": {},
   "outputs": [
    {
     "name": "stdout",
     "output_type": "stream",
     "text": [
      "Column names in the Excel file:\n",
      "['Name', 'Abbr Name', 'ISSN', 'EISSN', 'JIF', 'JIF5Years', 'Category']\n",
      "\n",
      "First few rows of the 'Category' column:\n",
      "0                        ONCOLOGY|Q1|1/322\n",
      "1         PHARMACOLOGY & PHARMACY|Q1|1/354\n",
      "2    MEDICINE, GENERAL & INTERNAL|Q1|1/325\n",
      "3    MEDICINE, GENERAL & INTERNAL|Q1|2/325\n",
      "4    MEDICINE, GENERAL & INTERNAL|Q1|3/325\n",
      "Name: Category, dtype: object\n"
     ]
    }
   ],
   "source": [
    "import pandas as pd\n",
    "\n",
    "# Read the Excel file\n",
    "impact_df = pd.read_excel('impact_factor/CopyofImpactFactor2024.xlsx')\n",
    "\n",
    "# Display column names\n",
    "print(\"Column names in the Excel file:\")\n",
    "print(impact_df.columns.tolist())\n",
    "# Display the first few rows of the 'Category' column\n",
    "print(\"\\nFirst few rows of the 'Category' column:\")\n",
    "print(impact_df['Category'].head())\n"
   ]
  },
  {
   "cell_type": "code",
   "execution_count": 11,
   "metadata": {},
   "outputs": [
    {
     "name": "stdout",
     "output_type": "stream",
     "text": [
      "GPT-4 response: I'm just a bunch of code, so I don't have feelings, but thanks for asking! How can I assist you today? 😊\n"
     ]
    }
   ],
   "source": [
    "import os\n",
    "from dotenv import load_dotenv\n",
    "from openai import AzureOpenAI\n",
    "\n",
    "# Load environment variables\n",
    "load_dotenv()\n",
    "\n",
    "# Configure Azure OpenAI client\n",
    "client = AzureOpenAI(\n",
    "    api_key=os.getenv('AZURE_API_KEY'),\n",
    "    api_version=os.getenv('AZURE_API_VERSION'),\n",
    "    azure_endpoint=os.getenv('AZURE_ENDPOINT')\n",
    ")\n",
    "\n",
    "try:\n",
    "    # Create chat completion using Azure endpoint\n",
    "    response = client.chat.completions.create(\n",
    "        model=\"gpt-4o\",  # Use the deployment name\n",
    "        messages=[\n",
    "            {\"role\": \"user\", \"content\": \"How are you?\"}\n",
    "        ]\n",
    "    )\n",
    "    \n",
    "    # Print the response\n",
    "    print(\"GPT-4 response:\", response.choices[0].message.content)\n",
    "    \n",
    "except Exception as e:\n",
    "    print(f\"An error occurred: {e}\")\n"
   ]
  }
 ],
 "metadata": {
  "kernelspec": {
   "display_name": "venv",
   "language": "python",
   "name": "python3"
  },
  "language_info": {
   "codemirror_mode": {
    "name": "ipython",
    "version": 3
   },
   "file_extension": ".py",
   "mimetype": "text/x-python",
   "name": "python",
   "nbconvert_exporter": "python",
   "pygments_lexer": "ipython3",
   "version": "3.10.15"
  }
 },
 "nbformat": 4,
 "nbformat_minor": 2
}
