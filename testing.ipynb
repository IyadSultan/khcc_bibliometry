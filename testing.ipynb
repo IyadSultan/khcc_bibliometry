{
 "cells": [
  {
   "cell_type": "code",
   "execution_count": 2,
   "metadata": {},
   "outputs": [
    {
     "name": "stdout",
     "output_type": "stream",
     "text": [
      "Column names in the Excel file:\n",
      "['Name', 'Abbr Name', 'ISSN', 'EISSN', 'JIF', 'JIF5Years', 'Category']\n",
      "\n",
      "First few rows of the 'Category' column:\n",
      "0                        ONCOLOGY|Q1|1/322\n",
      "1         PHARMACOLOGY & PHARMACY|Q1|1/354\n",
      "2    MEDICINE, GENERAL & INTERNAL|Q1|1/325\n",
      "3    MEDICINE, GENERAL & INTERNAL|Q1|2/325\n",
      "4    MEDICINE, GENERAL & INTERNAL|Q1|3/325\n",
      "Name: Category, dtype: object\n"
     ]
    }
   ],
   "source": [
    "import pandas as pd\n",
    "\n",
    "# Read the Excel file\n",
    "impact_df = pd.read_excel('impact_factor/CopyofImpactFactor2024.xlsx')\n",
    "\n",
    "# Display column names\n",
    "print(\"Column names in the Excel file:\")\n",
    "print(impact_df.columns.tolist())\n",
    "# Display the first few rows of the 'Category' column\n",
    "print(\"\\nFirst few rows of the 'Category' column:\")\n",
    "print(impact_df['Category'].head())\n"
   ]
  }
 ],
 "metadata": {
  "kernelspec": {
   "display_name": "venv",
   "language": "python",
   "name": "python3"
  },
  "language_info": {
   "codemirror_mode": {
    "name": "ipython",
    "version": 3
   },
   "file_extension": ".py",
   "mimetype": "text/x-python",
   "name": "python",
   "nbconvert_exporter": "python",
   "pygments_lexer": "ipython3",
   "version": "3.10.15"
  }
 },
 "nbformat": 4,
 "nbformat_minor": 2
}
